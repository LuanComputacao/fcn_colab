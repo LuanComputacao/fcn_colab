{
  "nbformat": 4,
  "nbformat_minor": 0,
  "metadata": {
    "colab": {
      "name": "CNN presentation.ipynb",
      "provenance": [],
      "collapsed_sections": [],
      "include_colab_link": true
    },
    "kernelspec": {
      "name": "python3",
      "display_name": "Python 3"
    },
    "accelerator": "GPU"
  },
  "cells": [
    {
      "cell_type": "markdown",
      "metadata": {
        "id": "view-in-github",
        "colab_type": "text"
      },
      "source": [
        "<a href=\"https://colab.research.google.com/github/BrunoKrinski/fcn_colab/blob/master/CNN_presentation.ipynb\" target=\"_parent\"><img src=\"https://colab.research.google.com/assets/colab-badge.svg\" alt=\"Open In Colab\"/></a>"
      ]
    },
    {
      "cell_type": "markdown",
      "metadata": {
        "id": "9OB7m9abRs4E",
        "colab_type": "text"
      },
      "source": [
        "Activate GPU enviroment: Runtime -> Change runtime type -> Hardware accelerator -> GPU"
      ]
    },
    {
      "cell_type": "code",
      "metadata": {
        "id": "4EPByOXZSXYw",
        "colab_type": "code",
        "colab": {}
      },
      "source": [
        "# Select Tensorflow 2.0\n",
        "try:\n",
        "  # %tensorflow_version only exists in Colab.\n",
        "  %tensorflow_version 2.x\n",
        "except Exception:\n",
        "  pass"
      ],
      "execution_count": 0,
      "outputs": []
    },
    {
      "cell_type": "code",
      "metadata": {
        "id": "qQTF53BiSmLJ",
        "colab_type": "code",
        "colab": {}
      },
      "source": [
        "# Import tensorflow and keras\n",
        "import tensorflow as tf\n",
        "from tensorflow import keras\n",
        "\n",
        "print(tf.__version__)\n",
        "print(keras.__version__)\n",
        "\n",
        "# Helper libraries\n",
        "import numpy as np\n",
        "import matplotlib.pyplot as plt"
      ],
      "execution_count": 0,
      "outputs": []
    },
    {
      "cell_type": "code",
      "metadata": {
        "id": "0a64m1RKTtQS",
        "colab_type": "code",
        "colab": {}
      },
      "source": [
        "# Import keras layers\n",
        "\n",
        "# Conv2D => Convolutional Layer\n",
        "# Flatten => Convert the 2D feature map of the convolutional step in a 1D vector to input the fully connected layers\n",
        "# Dense => Fully connected layers\n",
        "# Dropout => Ignore some neurons to add randomness to the CNN. It helps the CNN to learn the same thing with different neurons\n",
        "# Activation => Activation layer (relu, softmax, sigmoid,...)\n",
        "# MaxPooling2D => MaxPooling operation\n",
        "from tensorflow.keras.layers import Dense, Flatten, Dropout, Conv2D, Activation, MaxPooling2D\n",
        "from tensorflow.keras import Sequential, Model"
      ],
      "execution_count": 0,
      "outputs": []
    },
    {
      "cell_type": "code",
      "metadata": {
        "id": "0Rc7dBMCUTFu",
        "colab_type": "code",
        "colab": {}
      },
      "source": [
        "# Import and load a dataset\n",
        "mnist = tf.keras.datasets.mnist\n",
        "\n",
        "# x_train => train images\n",
        "# y_train => train labels\n",
        "# x_test => test images\n",
        "# y_test => test labels\n",
        "(x_train, y_train), (x_test, y_test) = mnist.load_data()\n",
        "\n",
        "# Convert the images to float\n",
        "x_train, x_test = x_train / 255.0, x_test / 255.0\n",
        "\n",
        "class_names = ['Zero', 'One', 'Two', 'Three', 'Four', 'Five', 'Six', 'Seven', 'Eight', 'Nine']"
      ],
      "execution_count": 0,
      "outputs": []
    },
    {
      "cell_type": "code",
      "metadata": {
        "id": "JhnRQYkgWeyu",
        "colab_type": "code",
        "colab": {}
      },
      "source": [
        "# Show informations about the dataset\n",
        "print('-----------------------')\n",
        "print(x_train.shape)\n",
        "print(len(y_train))\n",
        "print(y_train)\n",
        "print('-----------------------')\n",
        "print(x_test.shape)\n",
        "print(len(y_test))\n",
        "print(y_test)\n",
        "print('-----------------------')"
      ],
      "execution_count": 0,
      "outputs": []
    },
    {
      "cell_type": "code",
      "metadata": {
        "id": "LoWECuYuU8D_",
        "colab_type": "code",
        "colab": {}
      },
      "source": [
        "# Show examples of the dataset\n",
        "plt.figure(figsize=(10,10))\n",
        "for i in range(25):\n",
        "    plt.subplot(5,5,i+1)\n",
        "    plt.xticks([])\n",
        "    plt.yticks([])\n",
        "    plt.grid(False)\n",
        "    plt.xlabel(class_names[y_train[i]])\n",
        "    plt.imshow(x_train[i], cmap=plt.cm.binary)\n",
        "plt.show()"
      ],
      "execution_count": 0,
      "outputs": []
    },
    {
      "cell_type": "markdown",
      "metadata": {
        "id": "jK0ReSxqx2Q1",
        "colab_type": "text"
      },
      "source": [
        "keras.layers.Conv2D(filters, kernel_size, strides=(1, 1), padding='valid', data_format=None, dilation_rate=(1, 1), activation=None, use_bias=True, kernel_initializer='glorot_uniform', bias_initializer='zeros', kernel_regularizer=None, bias_regularizer=None, activity_regularizer=None, kernel_constraint=None, bias_constraint=None)\n",
        "\n",
        "---\n",
        "\n",
        "keras.layers.Activation(activation)\n",
        "\n",
        "---\n",
        "\n",
        "keras.layers.MaxPooling2D(pool_size=(2, 2), strides=None, padding='valid', data_format=None)\n",
        "\n",
        "---\n",
        "\n",
        "keras.layers.Dense(units, activation=None, use_bias=True, kernel_initializer='glorot_uniform', bias_initializer='zeros', kernel_regularizer=None, bias_regularizer=None, activity_regularizer=None, kernel_constraint=None, bias_constraint=None)\n",
        "\n",
        "---\n",
        "\n",
        "keras.layers.Dropout(rate, noise_shape=None, seed=None)\n"
      ]
    },
    {
      "cell_type": "code",
      "metadata": {
        "id": "IitTwvxqXNJ_",
        "colab_type": "code",
        "colab": {}
      },
      "source": [
        "# Define a sequential CNN model\n",
        "model = Sequential()\n",
        "\n",
        "model.add(Conv2D(32, (3,3), input_shape=(28,28,1)))\n",
        "model.add(Activation('relu'))\n",
        "model.add(MaxPooling2D(pool_size=(2,2)))\n",
        "\n",
        "model.add(Conv2D(32, (3,3)))\n",
        "model.add(Activation('relu'))\n",
        "model.add(MaxPooling2D(pool_size=(2,2)))\n",
        "\n",
        "model.add(Conv2D(64, (3, 3)))\n",
        "model.add(Activation('relu'))\n",
        "model.add(MaxPooling2D(pool_size=(2, 2)))\n",
        "\n",
        "model.add(Flatten())\n",
        "model.add(Dense(64))\n",
        "model.add(Activation('relu'))\n",
        "model.add(Dropout(0.5))\n",
        "model.add(Dense(10))\n",
        "model.add(Activation('softmax'))"
      ],
      "execution_count": 0,
      "outputs": []
    },
    {
      "cell_type": "code",
      "metadata": {
        "id": "by25_2KieRXi",
        "colab_type": "code",
        "colab": {}
      },
      "source": [
        "# Show details of the model\n",
        "model.summary()"
      ],
      "execution_count": 0,
      "outputs": []
    },
    {
      "cell_type": "code",
      "metadata": {
        "id": "Zidjmmc7eXW9",
        "colab_type": "code",
        "colab": {}
      },
      "source": [
        "train_images = x_train[..., tf.newaxis]\n",
        "train_labels = y_train\n",
        "test_images = x_test[..., tf.newaxis]\n",
        "test_labels = y_test\n",
        "\n",
        "print(train_images.shape)\n",
        "print(test_images.shape)\n",
        "\n",
        "# Train the model with Adam optimizer, sparse categorical crossentropy loss, and evaluate with accuracy\n",
        "model.compile(optimizer='adam', loss='sparse_categorical_crossentropy', metrics=['accuracy'])\n",
        "\n",
        "# Train the model with 5 epochs\n",
        "model.fit(train_images, train_labels, epochs=5)"
      ],
      "execution_count": 0,
      "outputs": []
    },
    {
      "cell_type": "code",
      "metadata": {
        "id": "UpW7uHLKewb3",
        "colab_type": "code",
        "colab": {}
      },
      "source": [
        "# Evaluate the model\n",
        "results = model.evaluate(test_images,  test_labels, verbose=2)\n",
        "print('test loss, test acc:', results)"
      ],
      "execution_count": 0,
      "outputs": []
    },
    {
      "cell_type": "code",
      "metadata": {
        "id": "x4LKMihShr_6",
        "colab_type": "code",
        "colab": {}
      },
      "source": [
        "# Get a test image and predict it with the trained model\n",
        "test_image = test_images[245]\n",
        "\n",
        "plt.figure()\n",
        "plt.imshow(np.squeeze(test_image,axis=2),cmap=plt.cm.binary)\n",
        "plt.grid(False)\n",
        "plt.show()\n",
        "\n",
        "predictions = model.predict_classes(np.expand_dims(test_image,axis=0))\n",
        "print('Prediction:',predictions)"
      ],
      "execution_count": 0,
      "outputs": []
    },
    {
      "cell_type": "code",
      "metadata": {
        "id": "3TcFa3EhvIpz",
        "colab_type": "code",
        "colab": {}
      },
      "source": [
        "# Import pre-trained model with the imagenet weights\n",
        "from tensorflow.keras.applications.vgg16 import VGG16, preprocess_input, decode_predictions\n",
        "\n",
        "vgg16 = VGG16(weights='imagenet')\n",
        "\n",
        "# Show network information\n",
        "vgg16.summary()"
      ],
      "execution_count": 0,
      "outputs": []
    },
    {
      "cell_type": "code",
      "metadata": {
        "id": "9JXq6EZwnpTW",
        "colab_type": "code",
        "colab": {}
      },
      "source": [
        "!wget https://assets.nrdc.org/sites/default/files/styles/full_content/public/media-uploads/wlds43_654640_2400.jpg?itok=2eXbSQ8S -O image.jpg"
      ],
      "execution_count": 0,
      "outputs": []
    },
    {
      "cell_type": "code",
      "metadata": {
        "id": "YK6ddRUFoyQB",
        "colab_type": "code",
        "colab": {}
      },
      "source": [
        "img_path = '/content/image.jpg'\n",
        "\n",
        "from tensorflow.keras.preprocessing import image\n",
        "img = image.load_img(img_path, target_size=(224, 224))\n",
        "\n",
        "plt.figure()\n",
        "plt.imshow(img)\n",
        "plt.grid(False)\n",
        "plt.show()"
      ],
      "execution_count": 0,
      "outputs": []
    },
    {
      "cell_type": "code",
      "metadata": {
        "id": "yryDjxWPp5lG",
        "colab_type": "code",
        "colab": {}
      },
      "source": [
        "x = image.img_to_array(img)\n",
        "x = np.expand_dims(x, axis=0)\n",
        "x = preprocess_input(x)\n",
        "\n",
        "preds = vgg16.predict(x)\n",
        "print('Predicted:', decode_predictions(preds, top=3)[0])"
      ],
      "execution_count": 0,
      "outputs": []
    },
    {
      "cell_type": "code",
      "metadata": {
        "id": "8zopZg6pwuw4",
        "colab_type": "code",
        "colab": {}
      },
      "source": [
        "# Import pre-trained models without the dense layers.\n",
        "# Only the convolutional layers are imported, and can be used to extract features\n",
        "base_model = VGG16(weights='imagenet', include_top=False, input_shape=(224,224,3))\n",
        "\n",
        "base_model.summary()"
      ],
      "execution_count": 0,
      "outputs": []
    },
    {
      "cell_type": "code",
      "metadata": {
        "id": "vrRkHse0w8wv",
        "colab_type": "code",
        "colab": {}
      },
      "source": [
        "# Without the dense step, the model can be adapted to classify other problems\n",
        "x = base_model.output\n",
        "x = Flatten()(x)\n",
        "x = Dense(2048, activation='relu')(x)\n",
        "x = Dropout(0.5)(x)\n",
        "x = Dense(1000, activation='relu')(x)\n",
        "x = Dropout(0.5)(x)\n",
        "x = Dense(10, activation='softmax')(x)\n",
        "\n",
        "model = Model(inputs=base_model.input, outputs=x)\n",
        "\n",
        "for layer in base_model.layers:\n",
        "  layer.trainable = False\n",
        "\n",
        "model.summary()"
      ],
      "execution_count": 0,
      "outputs": []
    }
  ]
}